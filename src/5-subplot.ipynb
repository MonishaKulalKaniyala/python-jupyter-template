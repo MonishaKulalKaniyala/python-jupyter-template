{
 "cells": [
  {
   "cell_type": "markdown",
   "metadata": {},
   "source": [
    "### Exercise 5: Subplot Layout"
   ]
  },
  {
   "cell_type": "code",
   "execution_count": null,
   "metadata": {},
   "outputs": [],
   "source": [
    "# TASK: Create a 2x2 subplot layout.\n",
    "# Plot a line chart in the first subplot, a bar chart in the second, a scatter plot in the third, and a pie chart in the fourth.\n",
    "import matplotlib.pyplot as plt\n",
    "\n",
    "# Data\n",
    "x_line = [1, 2, 3, 4, 5]\n",
    "y_line = [1, 4, 9, 16, 25]\n",
    "\n",
    "categories_bar = ['A', 'B', 'C', 'D']\n",
    "values_bar = [5, 7, 3, 9]\n",
    "\n",
    "x_scatter = [1, 2, 3, 4, 5]\n",
    "y_scatter = [2, 4, 6, 8, 10]\n",
    "\n",
    "labels_pie = ['Python', 'Java', 'C++', 'JavaScript']\n",
    "sizes_pie = [40, 25, 20, 15]\n",
    "\n",
    "# Create 2x2 subplot layout\n",
    "fig, axs = plt.subplots(2, 2, figsize=(10, 10))\n",
    "\n",
    "# First subplot: Line chart\n",
    "axs[0, 0].plot(x_line, y_line, color='blue', marker='o')\n",
    "axs[0, 0].set_title('Line Chart')\n",
    "axs[0, 0].set_xlabel('X values')\n",
    "axs[0, 0].set_ylabel('Y values')\n",
    "axs[0, 0].grid(True, linestyle='--', alpha=0.7)\n",
    "\n",
    "# Second subplot: Bar chart\n",
    "axs[0, 1].bar(categories_bar, values_bar, color=['red', 'blue', 'green', 'purple'])\n",
    "axs[0, 1].set_title('Bar Chart')\n",
    "axs[0, 1].set_xlabel('Categories')\n",
    "axs[0, 1].set_ylabel('Values')\n",
    "\n",
    "# Third subplot: Scatter plot\n",
    "axs[1, 0].scatter(x_scatter, y_scatter, color='orange', s=100)\n",
    "axs[1, 0].set_title('Scatter Plot')\n",
    "axs[1, 0].set_xlabel('X values')\n",
    "axs[1, 0].set_ylabel('Y values')\n",
    "axs[1, 0].grid(True, linestyle='--', alpha=0.7)\n",
    "\n",
    "# Fourth subplot: Pie chart\n",
    "axs[1, 1].pie(sizes_pie, labels=labels_pie, autopct='%1.1f%%', startangle=90, \n",
    "              colors=['skyblue', 'lightgreen', 'gold', 'salmon'])\n",
    "axs[1, 1].set_title('Pie Chart')\n",
    "\n",
    "# Adjust layout\n",
    "plt.tight_layout()\n",
    "plt.show()"
   ]
  }
 ],
 "metadata": {
  "language_info": {
   "name": "python"
  }
 },
 "nbformat": 4,
 "nbformat_minor": 2
}
